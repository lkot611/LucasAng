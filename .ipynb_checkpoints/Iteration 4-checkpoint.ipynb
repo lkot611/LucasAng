{
 "cells": [
  {
   "cell_type": "markdown",
   "metadata": {},
   "source": [
    "# Data Exploration"
   ]
  },
  {
   "cell_type": "code",
   "execution_count": 1,
   "metadata": {},
   "outputs": [],
   "source": [
    "# Section must be included at the beginning of each new notebook. Remember to change the app name. \n",
    "# If you're using VirtualBox, change the below to '/home/user/spark-2.1.1-bin-hadoop2.7'\n",
    "import findspark\n",
    "findspark.init('/home/ubuntu/spark-2.1.1-bin-hadoop2.7')\n",
    "import pyspark\n",
    "from pyspark.sql import *\n",
    "spark = SparkSession.builder.appName('IterationFour').getOrCreate()\n",
    "\n",
    "from pyspark.ml.classification import LogisticRegression"
   ]
  },
  {
   "cell_type": "code",
   "execution_count": 16,
   "metadata": {},
   "outputs": [],
   "source": [
    "df = spark.read.csv('Dataset/San Francisco 2017.csv',header=True,inferSchema=True)"
   ]
  },
  {
   "cell_type": "code",
   "execution_count": 15,
   "metadata": {},
   "outputs": [],
   "source": [
    "dff = spark.read.csv('Dataset/Radio_Codes.csv',header=True,inferSchema=True)"
   ]
  },
  {
   "cell_type": "code",
   "execution_count": 2,
   "metadata": {},
   "outputs": [],
   "source": [
    "final = spark.read.csv('Dataset/final.csv',header=True,inferSchema=True)"
   ]
  },
  {
   "cell_type": "code",
   "execution_count": 4,
   "metadata": {
    "scrolled": true
   },
   "outputs": [
    {
     "name": "stdout",
     "output_type": "stream",
     "text": [
      "+---------+--------------------+----------+---------+-----------+--------+---------------+------------+--------------------+-------------+-----+---------+---------------+--------------------+\n",
      "|  CrimeId|OriginalCrimeTypName|ReportDate| CallDate|OffenseDate|CallTime|   CallDateTime| Disposition|             Address|         City|State|Agency Id|    AddressType|      CommonLocation|\n",
      "+---------+--------------------+----------+---------+-----------+--------+---------------+------------+--------------------+-------------+-----+---------+---------------+--------------------+\n",
      "|170432492|        Passing Call| 2/12/2017|2/12/2017|  2/12/2017|   17:04|2/12/2017 17:04|Not recorded|Sunnydale Av/hahn St|San Francisco|   CA|        1|   Intersection|                null|\n",
      "|170603312|     Muni Inspection|  3/1/2017| 3/1/2017|   3/1/2017|   17:37| 3/1/2017 17:37|         HAN|  16th St/mission St|San Francisco|   CA|        1|   Intersection|                null|\n",
      "|170453991|        Traffic Stop| 2/14/2017|2/14/2017|  2/14/2017|   23:01|2/14/2017 23:01|         CIT|    5th St/jessie St|San Francisco|   CA|        1|   Intersection|                null|\n",
      "|170453992|        Traffic Stop| 2/14/2017|2/14/2017|  2/14/2017|   23:01|2/14/2017 23:01|         CIT|Cambridge St/sill...|San Francisco|   CA|        1|   Intersection|                null|\n",
      "|170912137|        Passing Call|  4/1/2017| 4/1/2017|   4/1/2017|   13:46| 4/1/2017 13:46|         HAN| 0 Block Of Cargo Wy|San Francisco|   CA|        1|Common Location|             Pier 94|\n",
      "|170403723|         Return Call|  2/9/2017| 2/9/2017|   2/9/2017|   20:40| 2/9/2017 20:40|         GOA|1300 Block Of Web...|San Francisco|   CA|        1|Common Location|Safeway-Webster S...|\n",
      "|170912443|          Trespasser|  4/1/2017| 4/1/2017|   4/1/2017|   15:06| 4/1/2017 15:06|         HAN|500 Block Of Elli...|San Francisco|   CA|        1|Premise Address|                null|\n",
      "|170312929|         Petty Theft| 1/31/2017|1/31/2017|  1/31/2017|   17:39|1/31/2017 17:39|         REP|200 Block Of Hawt...|San Francisco|   CA|        1|Premise Address|                null|\n",
      "|170501376|                 Rep| 2/19/2017|2/19/2017|  2/19/2017|   11:20|2/19/2017 11:20|         REP|300 Block Of Cali...|San Francisco|   CA|        1|Premise Address|                null|\n",
      "|170800679|                 915| 3/21/2017|3/21/2017|  3/21/2017|    7:33| 3/21/2017 7:33|         HAN|300 Block Of Exec...|San Francisco|   CA|        1|Premise Address|                null|\n",
      "|170820727|              22500e| 3/23/2017|3/23/2017|  3/23/2017|    7:57| 3/23/2017 7:57|         HAN|0 Block Of Lafaye...|San Francisco|   CA|        1|Premise Address|                null|\n",
      "|170422249|   Suspicious Person| 2/11/2017|2/11/2017|  2/11/2017|   15:03|2/11/2017 15:03|         GOA|1200 Block Of Arg...|San Francisco|   CA|        1|Common Location|   Kezar Stadium, Sf|\n",
      "|170422353|Assault / Battery Dv| 2/11/2017|2/11/2017|  2/11/2017|   15:32|2/11/2017 15:32|         NOM|Duboce Av/belcher St|San Francisco|   CA|        1|   Intersection|                null|\n",
      "|170422541|    Well Being Check| 2/11/2017|2/11/2017|  2/11/2017|   16:21|2/11/2017 16:21|         HAN|5600 Block Of 3rd St|San Francisco|   CA|        1|Premise Address|                null|\n",
      "|170912461|  Homeless Complaint|  4/1/2017| 4/1/2017|   4/1/2017|   15:10| 4/1/2017 15:10|         GOA|400 Block Of Broa...|San Francisco|   CA|        1|Premise Address|                null|\n",
      "|170912640|  Suspicious Vehicle|  4/1/2017| 4/1/2017|   4/1/2017|   16:00| 4/1/2017 16:00|         ADV|Oakdale Av/mendel...|San Francisco|   CA|        1|   Intersection|                null|\n",
      "|170912646|  Suspicious Vehicle|  4/1/2017| 4/1/2017|   4/1/2017|   16:02| 4/1/2017 16:02|         ADV|1600 Block Of Oak...|San Francisco|   CA|        1|Premise Address|                null|\n",
      "|170912711|  Homeless Complaint|  4/1/2017| 4/1/2017|   4/1/2017|   16:14| 4/1/2017 16:14|         GOA|17th St/san Bruno Av|San Francisco|   CA|        1|   Intersection|                null|\n",
      "|170912736|                  Dw|  4/1/2017| 4/1/2017|   4/1/2017|   16:20| 4/1/2017 16:20|         CAN|700 Block Of Nort...|San Francisco|   CA|        1|Premise Address|                null|\n",
      "|170442017|           Open Line| 2/13/2017|2/13/2017|  2/13/2017|   13:45|2/13/2017 13:45|         NCR|100 Block Of Clay St|San Francisco|   CA|        1|Premise Address|                null|\n",
      "+---------+--------------------+----------+---------+-----------+--------+---------------+------------+--------------------+-------------+-----+---------+---------------+--------------------+\n",
      "only showing top 20 rows\n",
      "\n"
     ]
    }
   ],
   "source": [
    "df.show()"
   ]
  },
  {
   "cell_type": "code",
   "execution_count": 6,
   "metadata": {
    "scrolled": true
   },
   "outputs": [
    {
     "name": "stdout",
     "output_type": "stream",
     "text": [
      "+----+--------------------+----+----+----+----+----+----+----+----+----+----+----+----+----+----+\n",
      "|Code|  DispositionMeaning| _c2| _c3| _c4| _c5| _c6| _c7| _c8| _c9|_c10|_c11|_c12|_c13|_c14|_c15|\n",
      "+----+--------------------+----+----+----+----+----+----+----+----+----+----+----+----+----+----+\n",
      "| ABA|             Abated |null|null|null|null|null|null|null|null|null|null|null|null|null|null|\n",
      "| ADM|          Admonished|null|null|null|null|null|null|null|null|null|null|null|null|null|null|\n",
      "| ADV|             Advised|null|null|null|null|null|null|null|null|null|null|null|null|null|null|\n",
      "| ARR|             Arrest |null|null|null|null|null|null|null|null|null|null|null|null|null|null|\n",
      "| CAN|              Cancel|null|null|null|null|null|null|null|null|null|null|null|null|null|null|\n",
      "| CSA|    CPSA assignment |null|null|null|null|null|null|null|null|null|null|null|null|null|null|\n",
      "|  22|              Cancel|null|null|null|null|null|null|null|null|null|null|null|null|null|null|\n",
      "| CIT|               Cited|null|null|null|null|null|null|null|null|null|null|null|null|null|null|\n",
      "| CRM|Criminal Activation |null|null|null|null|null|null|null|null|null|null|null|null|null|null|\n",
      "| GOA|     Gone on Arrival|null|null|null|null|null|null|null|null|null|null|null|null|null|null|\n",
      "| HAN|            Handled |null|null|null|null|null|null|null|null|null|null|null|null|null|null|\n",
      "| NCR|       Non-Criminal |null|null|null|null|null|null|null|null|null|null|null|null|null|null|\n",
      "|  ND|      No Disposition|null|null|null|null|null|null|null|null|null|null|null|null|null|null|\n",
      "| NOM|           No Merit |null|null|null|null|null|null|null|null|null|null|null|null|null|null|\n",
      "| PAS|Premises Appears ...|null|null|null|null|null|null|null|null|null|null|null|null|null|null|\n",
      "| REP|             Report |null|null|null|null|null|null|null|null|null|null|null|null|null|null|\n",
      "| SFD|SFFD Medical Staf...|null|null|null|null|null|null|null|null|null|null|null|null|null|null|\n",
      "| UTL|    Unable to Locate|null|null|null|null|null|null|null|null|null|null|null|null|null|null|\n",
      "| VAS|Vehicle Appears S...|null|null|null|null|null|null|null|null|null|null|null|null|null|null|\n",
      "+----+--------------------+----+----+----+----+----+----+----+----+----+----+----+----+----+----+\n",
      "\n"
     ]
    }
   ],
   "source": [
    "dff.show()"
   ]
  },
  {
   "cell_type": "code",
   "execution_count": 58,
   "metadata": {
    "scrolled": true
   },
   "outputs": [
    {
     "name": "stdout",
     "output_type": "stream",
     "text": [
      "+------+------------------+----------+----+-----+---------------+\n",
      "|IsDrug|DispositionMeaning|DayOfMonth|Hour|Month|    AddressType|\n",
      "+------+------------------+----------+----+-----+---------------+\n",
      "|    No|           Handled|         1|  17|    3|   Intersection|\n",
      "|    No|             Cited|        14|  23|    2|   Intersection|\n",
      "|    No|             Cited|        14|  23|    2|   Intersection|\n",
      "|    No|           Handled|         1|  13|    4|Common Location|\n",
      "|    No|   Gone on Arrival|         9|  20|    2|Common Location|\n",
      "|    No|           Handled|         1|  15|    4|Premise Address|\n",
      "|    No|            Report|        31|  17|    1|Premise Address|\n",
      "|    No|            Report|        19|  11|    2|Premise Address|\n",
      "|    No|           Handled|        21|   7|    3|Premise Address|\n",
      "|    No|           Handled|        23|   7|    3|Premise Address|\n",
      "|    No|   Gone on Arrival|        11|  15|    2|Common Location|\n",
      "|    No|          No Merit|        11|  15|    2|   Intersection|\n",
      "|    No|           Handled|        11|  16|    2|Premise Address|\n",
      "|    No|   Gone on Arrival|         1|  15|    4|Premise Address|\n",
      "|    No|           Advised|         1|  16|    4|   Intersection|\n",
      "|    No|           Advised|         1|  16|    4|Premise Address|\n",
      "|    No|   Gone on Arrival|         1|  16|    4|   Intersection|\n",
      "|    No|            Cancel|         1|  16|    4|Premise Address|\n",
      "|    No|      Non-Criminal|        13|  13|    2|Premise Address|\n",
      "|    No|           Advised|         4|   8|    1|Premise Address|\n",
      "+------+------------------+----------+----+-----+---------------+\n",
      "only showing top 20 rows\n",
      "\n"
     ]
    }
   ],
   "source": [
    "final.show()"
   ]
  },
  {
   "cell_type": "code",
   "execution_count": 5,
   "metadata": {
    "scrolled": false
   },
   "outputs": [
    {
     "name": "stdout",
     "output_type": "stream",
     "text": [
      "root\n",
      " |-- Crime Id: integer (nullable = true)\n",
      " |-- Original Crime Type Name: string (nullable = true)\n",
      " |-- Report Date: string (nullable = true)\n",
      " |-- Call Date: string (nullable = true)\n",
      " |-- Offense Date: string (nullable = true)\n",
      " |-- Call Time: string (nullable = true)\n",
      " |-- Call Date Time: string (nullable = true)\n",
      " |-- Disposition: string (nullable = true)\n",
      " |-- Address: string (nullable = true)\n",
      " |-- City: string (nullable = true)\n",
      " |-- State: string (nullable = true)\n",
      " |-- Agency Id: integer (nullable = true)\n",
      " |-- Address Type: string (nullable = true)\n",
      " |-- Common Location: string (nullable = true)\n",
      "\n"
     ]
    }
   ],
   "source": [
    "df.printSchema()"
   ]
  },
  {
   "cell_type": "code",
   "execution_count": 12,
   "metadata": {},
   "outputs": [
    {
     "name": "stdout",
     "output_type": "stream",
     "text": [
      "+-------------+\n",
      "|         City|\n",
      "+-------------+\n",
      "|   Fort Mason|\n",
      "|San Francisco|\n",
      "|         null|\n",
      "|     Brisbane|\n",
      "|    Daly City|\n",
      "|  Yerba Buena|\n",
      "|     Presidio|\n",
      "|Hunters Point|\n",
      "|Treasure Isla|\n",
      "+-------------+\n",
      "\n"
     ]
    }
   ],
   "source": [
    "df.select(\"City\").distinct().show()"
   ]
  },
  {
   "cell_type": "code",
   "execution_count": 13,
   "metadata": {},
   "outputs": [
    {
     "name": "stdout",
     "output_type": "stream",
     "text": [
      "+-----+\n",
      "|State|\n",
      "+-----+\n",
      "|   CA|\n",
      "+-----+\n",
      "\n"
     ]
    }
   ],
   "source": [
    "df.select(\"State\").distinct().show()"
   ]
  },
  {
   "cell_type": "code",
   "execution_count": 14,
   "metadata": {},
   "outputs": [
    {
     "name": "stdout",
     "output_type": "stream",
     "text": [
      "+---------------+\n",
      "|   Address Type|\n",
      "+---------------+\n",
      "|   Intersection|\n",
      "|Common Location|\n",
      "|Premise Address|\n",
      "|   Geo-Override|\n",
      "+---------------+\n",
      "\n"
     ]
    }
   ],
   "source": [
    "df.select(\"Address Type\").distinct().show()"
   ]
  },
  {
   "cell_type": "code",
   "execution_count": 7,
   "metadata": {},
   "outputs": [
    {
     "name": "stdout",
     "output_type": "stream",
     "text": [
      "+-----------+\n",
      "|Disposition|\n",
      "+-----------+\n",
      "|        CHP|\n",
      "|        DUP|\n",
      "|        ABA|\n",
      "|        INC|\n",
      "|        TH2|\n",
      "|         22|\n",
      "|        NOM|\n",
      "|        HOT|\n",
      "|        GOA|\n",
      "|        CIT|\n",
      "|        HAN|\n",
      "|        ADM|\n",
      "|        ENC|\n",
      "|        FIR|\n",
      "|        OME|\n",
      "|         ND|\n",
      "|        SFD|\n",
      "|        PAS|\n",
      "|        CRT|\n",
      "|        UTL|\n",
      "+-----------+\n",
      "only showing top 20 rows\n",
      "\n"
     ]
    }
   ],
   "source": [
    "df.select(\"Disposition\").distinct().show()"
   ]
  },
  {
   "cell_type": "code",
   "execution_count": 17,
   "metadata": {
    "scrolled": true
   },
   "outputs": [],
   "source": [
    "df.createOrReplaceTempView(\"SanFran\")"
   ]
  },
  {
   "cell_type": "code",
   "execution_count": 36,
   "metadata": {
    "scrolled": false
   },
   "outputs": [
    {
     "name": "stdout",
     "output_type": "stream",
     "text": [
      "+-----+-----+\n",
      "|Month|Count|\n",
      "+-----+-----+\n",
      "|    9|62518|\n",
      "|    8|56213|\n",
      "|    3|55649|\n",
      "|    1|51322|\n",
      "|    5|49950|\n",
      "|    2|47564|\n",
      "|    4|46407|\n",
      "|    7|44662|\n",
      "|    6|42713|\n",
      "|   10|23856|\n",
      "|   11|  102|\n",
      "+-----+-----+\n",
      "\n"
     ]
    }
   ],
   "source": [
    "dfQuery = spark.sql(\"SELECT month(CAST(UNIX_TIMESTAMP(CallDate, 'MM/dd/yyyy') AS TIMESTAMP)) AS Month, COUNT(*) AS Count FROM SanFran GROUP BY month(CAST(UNIX_TIMESTAMP(CallDate, 'MM/dd/yyyy') AS TIMESTAMP)) ORDER BY Count DESC\").show()"
   ]
  },
  {
   "cell_type": "code",
   "execution_count": 37,
   "metadata": {},
   "outputs": [
    {
     "name": "stdout",
     "output_type": "stream",
     "text": [
      "+-------+--------------------+--------------------+----------+--------+-----------+--------+-------------+-----------+--------------------+-----------+------+---------+---------------+--------------------+\n",
      "|summary|             CrimeId|OriginalCrimeTypName|ReportDate|CallDate|OffenseDate|CallTime| CallDateTime|Disposition|             Address|       City| State|Agency Id|    AddressType|      CommonLocation|\n",
      "+-------+--------------------+--------------------+----------+--------+-----------+--------+-------------+-----------+--------------------+-----------+------+---------+---------------+--------------------+\n",
      "|  count|              480956|              480956|    480956|  480956|     480956|  480956|       480956|     480956|              480956|     467364|480956|   480956|         480956|               48954|\n",
      "|   mean|1.7146812263684413E8|   8837.803080576368|      null|    null|       null|    null|         null|       22.0|   734.3333333333334|       null|  null|      1.0|           null|                null|\n",
      "| stddev|   851963.8276113913|   364435.0293523288|      null|    null|       null|    null|         null|        0.0|  152.07344716725973|       null|  null|      0.0|           null|                null|\n",
      "|    min|           170010001|         \"18\"\" Pipe\"|  1/1/2017|1/1/2017|   1/1/2017|    0:00|1/1/2017 0:00|         22|\"2122 Taraval St ...|   Brisbane|    CA|        1|Common Location|1 Market Pz #Lvl ...|\n",
      "|    max|           173192201|              `Drugs|  9/9/2017|9/9/2017|   9/9/2017|    9:59|9/9/2017 9:59|        VAS|    `Mmonterey/congo|Yerba Buena|    CA|        1|Premise Address|  Zoo-South Gate, Sf|\n",
      "+-------+--------------------+--------------------+----------+--------+-----------+--------+-------------+-----------+--------------------+-----------+------+---------+---------------+--------------------+\n",
      "\n"
     ]
    }
   ],
   "source": [
    "df.describe().show()"
   ]
  },
  {
   "cell_type": "code",
   "execution_count": 40,
   "metadata": {},
   "outputs": [
    {
     "name": "stdout",
     "output_type": "stream",
     "text": [
      "+-------------+------+\n",
      "|         City| Count|\n",
      "+-------------+------+\n",
      "|   Fort Mason|    11|\n",
      "|San Francisco|464769|\n",
      "|         null| 13592|\n",
      "|     Brisbane|     8|\n",
      "|    Daly City|   258|\n",
      "|  Yerba Buena|   137|\n",
      "|     Presidio|   133|\n",
      "|Hunters Point|   144|\n",
      "|Treasure Isla|  1904|\n",
      "+-------------+------+\n",
      "\n"
     ]
    }
   ],
   "source": [
    "dfQuery = spark.sql(\"SELECT DISTINCT City, COUNT(*) AS Count FROM SanFran GROUP BY City\").show()"
   ]
  },
  {
   "cell_type": "code",
   "execution_count": 46,
   "metadata": {},
   "outputs": [
    {
     "name": "stdout",
     "output_type": "stream",
     "text": [
      "+-----+\n",
      "|COUNT|\n",
      "+-----+\n",
      "| 6408|\n",
      "+-----+\n",
      "\n"
     ]
    }
   ],
   "source": [
    "dfQuery = spark.sql(\"SELECT COUNT(DISTINCT OriginalCrimeTypName) AS COUNT FROM SanFran\").show()"
   ]
  },
  {
   "cell_type": "markdown",
   "metadata": {},
   "source": [
    "# Data Preparation"
   ]
  },
  {
   "cell_type": "code",
   "execution_count": 45,
   "metadata": {},
   "outputs": [
    {
     "name": "stdout",
     "output_type": "stream",
     "text": [
      "+--------------------+----------+--------+------------+---------------+\n",
      "|OriginalCrimeTypName|ReportDate|CallTime| Disposition|    AddressType|\n",
      "+--------------------+----------+--------+------------+---------------+\n",
      "|        Passing Call| 2/12/2017|   17:04|Not recorded|   Intersection|\n",
      "|     Muni Inspection|  3/1/2017|   17:37|         HAN|   Intersection|\n",
      "|        Traffic Stop| 2/14/2017|   23:01|         CIT|   Intersection|\n",
      "|        Traffic Stop| 2/14/2017|   23:01|         CIT|   Intersection|\n",
      "|        Passing Call|  4/1/2017|   13:46|         HAN|Common Location|\n",
      "|         Return Call|  2/9/2017|   20:40|         GOA|Common Location|\n",
      "|          Trespasser|  4/1/2017|   15:06|         HAN|Premise Address|\n",
      "|         Petty Theft| 1/31/2017|   17:39|         REP|Premise Address|\n",
      "|                 Rep| 2/19/2017|   11:20|         REP|Premise Address|\n",
      "|                 915| 3/21/2017|    7:33|         HAN|Premise Address|\n",
      "|              22500e| 3/23/2017|    7:57|         HAN|Premise Address|\n",
      "|   Suspicious Person| 2/11/2017|   15:03|         GOA|Common Location|\n",
      "|Assault / Battery Dv| 2/11/2017|   15:32|         NOM|   Intersection|\n",
      "|    Well Being Check| 2/11/2017|   16:21|         HAN|Premise Address|\n",
      "|  Homeless Complaint|  4/1/2017|   15:10|         GOA|Premise Address|\n",
      "|  Suspicious Vehicle|  4/1/2017|   16:00|         ADV|   Intersection|\n",
      "|  Suspicious Vehicle|  4/1/2017|   16:02|         ADV|Premise Address|\n",
      "|  Homeless Complaint|  4/1/2017|   16:14|         GOA|   Intersection|\n",
      "|                  Dw|  4/1/2017|   16:20|         CAN|Premise Address|\n",
      "|           Open Line| 2/13/2017|   13:45|         NCR|Premise Address|\n",
      "+--------------------+----------+--------+------------+---------------+\n",
      "only showing top 20 rows\n",
      "\n"
     ]
    }
   ],
   "source": [
    "dfQuery = spark.sql(\"SELECT OriginalCrimeTypName, ReportDate, CallTime, Disposition, AddressType FROM SanFran\").show()"
   ]
  },
  {
   "cell_type": "code",
   "execution_count": 47,
   "metadata": {},
   "outputs": [
    {
     "name": "stdout",
     "output_type": "stream",
     "text": [
      "+--------------------+----------+--------+------------+---------------+\n",
      "|OriginalCrimeTypName|ReportDate|CallTime| Disposition|    AddressType|\n",
      "+--------------------+----------+--------+------------+---------------+\n",
      "|        Passing Call| 2/12/2017|   17:04|Not recorded|   Intersection|\n",
      "|     Muni Inspection|  3/1/2017|   17:37|         HAN|   Intersection|\n",
      "|        Traffic Stop| 2/14/2017|   23:01|         CIT|   Intersection|\n",
      "|        Traffic Stop| 2/14/2017|   23:01|         CIT|   Intersection|\n",
      "|        Passing Call|  4/1/2017|   13:46|         HAN|Common Location|\n",
      "|         Return Call|  2/9/2017|   20:40|         GOA|Common Location|\n",
      "|          Trespasser|  4/1/2017|   15:06|         HAN|Premise Address|\n",
      "|         Petty Theft| 1/31/2017|   17:39|         REP|Premise Address|\n",
      "|                 Rep| 2/19/2017|   11:20|         REP|Premise Address|\n",
      "|                 915| 3/21/2017|    7:33|         HAN|Premise Address|\n",
      "|              22500e| 3/23/2017|    7:57|         HAN|Premise Address|\n",
      "|   Suspicious Person| 2/11/2017|   15:03|         GOA|Common Location|\n",
      "|Assault / Battery Dv| 2/11/2017|   15:32|         NOM|   Intersection|\n",
      "|    Well Being Check| 2/11/2017|   16:21|         HAN|Premise Address|\n",
      "|  Homeless Complaint|  4/1/2017|   15:10|         GOA|Premise Address|\n",
      "|  Suspicious Vehicle|  4/1/2017|   16:00|         ADV|   Intersection|\n",
      "|  Suspicious Vehicle|  4/1/2017|   16:02|         ADV|Premise Address|\n",
      "|  Homeless Complaint|  4/1/2017|   16:14|         GOA|   Intersection|\n",
      "|                  Dw|  4/1/2017|   16:20|         CAN|Premise Address|\n",
      "|           Open Line| 2/13/2017|   13:45|         NCR|Premise Address|\n",
      "+--------------------+----------+--------+------------+---------------+\n",
      "only showing top 20 rows\n",
      "\n"
     ]
    }
   ],
   "source": [
    "dfQuery = spark.sql(\"SELECT OriginalCrimeTypName, ReportDate, CallTime, Disposition, AddressType \n",
    "                    FROM SanFran \n",
    "                    WHERE City = 'San Francisco'\").show()"
   ]
  },
  {
   "cell_type": "code",
   "execution_count": 48,
   "metadata": {},
   "outputs": [
    {
     "name": "stdout",
     "output_type": "stream",
     "text": [
      "+------+\n",
      "|IsDrug|\n",
      "+------+\n",
      "|     0|\n",
      "|     0|\n",
      "|     0|\n",
      "|     0|\n",
      "|     0|\n",
      "|     0|\n",
      "|     0|\n",
      "|     0|\n",
      "|     0|\n",
      "|     0|\n",
      "|     0|\n",
      "|     0|\n",
      "|     0|\n",
      "|     0|\n",
      "|     0|\n",
      "|     0|\n",
      "|     0|\n",
      "|     0|\n",
      "|     0|\n",
      "|     0|\n",
      "+------+\n",
      "only showing top 20 rows\n",
      "\n"
     ]
    }
   ],
   "source": [
    "dfQuery = spark.sql(\"SELECT CASE WHEN OriginalCrimeTypName LIKE '%Drug%' THEN 1 ELSE 0 END AS IsDrug \n",
    "                    FROM SanFran \n",
    "                    WHERE City = 'San Francisco'\").show()"
   ]
  },
  {
   "cell_type": "code",
   "execution_count": 76,
   "metadata": {},
   "outputs": [
    {
     "name": "stdout",
     "output_type": "stream",
     "text": [
      "+----------+----+-----+---------------+\n",
      "|DayOfMonth|Hour|Month|    AddressType|\n",
      "+----------+----+-----+---------------+\n",
      "|        12|  17|    2|   Intersection|\n",
      "|         1|  17|    3|   Intersection|\n",
      "|        14|  23|    2|   Intersection|\n",
      "|        14|  23|    2|   Intersection|\n",
      "|         1|  13|    4|Common Location|\n",
      "|         9|  20|    2|Common Location|\n",
      "|         1|  15|    4|Premise Address|\n",
      "|        31|  17|    1|Premise Address|\n",
      "|        19|  11|    2|Premise Address|\n",
      "|        21|   7|    3|Premise Address|\n",
      "|        23|   7|    3|Premise Address|\n",
      "|        11|  15|    2|Common Location|\n",
      "|        11|  15|    2|   Intersection|\n",
      "|        11|  16|    2|Premise Address|\n",
      "|         1|  15|    4|Premise Address|\n",
      "|         1|  16|    4|   Intersection|\n",
      "|         1|  16|    4|Premise Address|\n",
      "|         1|  16|    4|   Intersection|\n",
      "|         1|  16|    4|Premise Address|\n",
      "|        13|  13|    2|Premise Address|\n",
      "+----------+----+-----+---------------+\n",
      "only showing top 20 rows\n",
      "\n"
     ]
    }
   ],
   "source": [
    "dfQuery = spark.sql(\"SELECT dayofmonth(CAST(UNIX_TIMESTAMP(CallDate, 'MM/dd/yyyy') AS TIMESTAMP)) AS DayOfMonth, hour(CallTime) AS Hour, month(CAST(UNIX_TIMESTAMP(CallDate, 'MM/dd/yyyy') AS TIMESTAMP)) AS Month, AddressType FROM SanFran\").show()"
   ]
  },
  {
   "cell_type": "code",
   "execution_count": 18,
   "metadata": {},
   "outputs": [],
   "source": [
    "dff.createOrReplaceTempView(\"Disposition\")"
   ]
  },
  {
   "cell_type": "code",
   "execution_count": 42,
   "metadata": {},
   "outputs": [
    {
     "name": "stdout",
     "output_type": "stream",
     "text": [
      "+----+--------------------+----+----+----+----+----+----+----+----+----+----+----+----+----+----+\n",
      "|Code|  DispositionMeaning| _c2| _c3| _c4| _c5| _c6| _c7| _c8| _c9|_c10|_c11|_c12|_c13|_c14|_c15|\n",
      "+----+--------------------+----+----+----+----+----+----+----+----+----+----+----+----+----+----+\n",
      "| ABA|             Abated |null|null|null|null|null|null|null|null|null|null|null|null|null|null|\n",
      "| ADM|          Admonished|null|null|null|null|null|null|null|null|null|null|null|null|null|null|\n",
      "| ADV|             Advised|null|null|null|null|null|null|null|null|null|null|null|null|null|null|\n",
      "| ARR|             Arrest |null|null|null|null|null|null|null|null|null|null|null|null|null|null|\n",
      "| CAN|              Cancel|null|null|null|null|null|null|null|null|null|null|null|null|null|null|\n",
      "| CSA|    CPSA assignment |null|null|null|null|null|null|null|null|null|null|null|null|null|null|\n",
      "|  22|              Cancel|null|null|null|null|null|null|null|null|null|null|null|null|null|null|\n",
      "| CIT|               Cited|null|null|null|null|null|null|null|null|null|null|null|null|null|null|\n",
      "| CRM|Criminal Activation |null|null|null|null|null|null|null|null|null|null|null|null|null|null|\n",
      "| GOA|     Gone on Arrival|null|null|null|null|null|null|null|null|null|null|null|null|null|null|\n",
      "| HAN|            Handled |null|null|null|null|null|null|null|null|null|null|null|null|null|null|\n",
      "| NCR|       Non-Criminal |null|null|null|null|null|null|null|null|null|null|null|null|null|null|\n",
      "|  ND|      No Disposition|null|null|null|null|null|null|null|null|null|null|null|null|null|null|\n",
      "| NOM|           No Merit |null|null|null|null|null|null|null|null|null|null|null|null|null|null|\n",
      "| PAS|Premises Appears ...|null|null|null|null|null|null|null|null|null|null|null|null|null|null|\n",
      "| REP|             Report |null|null|null|null|null|null|null|null|null|null|null|null|null|null|\n",
      "| SFD|SFFD Medical Staf...|null|null|null|null|null|null|null|null|null|null|null|null|null|null|\n",
      "| UTL|    Unable to Locate|null|null|null|null|null|null|null|null|null|null|null|null|null|null|\n",
      "| VAS|Vehicle Appears S...|null|null|null|null|null|null|null|null|null|null|null|null|null|null|\n",
      "+----+--------------------+----+----+----+----+----+----+----+----+----+----+----+----+----+----+\n",
      "\n"
     ]
    }
   ],
   "source": [
    "dfQuery = spark.sql(\"select * from Disposition\").show()"
   ]
  },
  {
   "cell_type": "code",
   "execution_count": 56,
   "metadata": {},
   "outputs": [],
   "source": [
    "dfQuery = spark.sql(\"SELECT CASE WHEN SanFran.OriginalCrimeTypName LIKE '%Drug%' THEN 'Yes' ELSE 'No' END AS IsDrug, Disposition.DispositionMeaning, dayofmonth(CAST(UNIX_TIMESTAMP(SanFran.CallDate, 'MM/dd/yyyy') AS TIMESTAMP)) AS DayOfMonth, hour(SanFran.CallTime) AS Hour, month(CAST(UNIX_TIMESTAMP(SanFran.CallDate, 'MM/dd/yyyy') AS TIMESTAMP)) AS Month, AddressType FROM SanFran JOIN Disposition ON SanFran.Disposition = Disposition.Code WHERE City = 'San Francisco'\").write.option(\"header\", \"true\").csv(\"Dataset/final.csv\")"
   ]
  },
  {
   "cell_type": "code",
   "execution_count": 83,
   "metadata": {
    "scrolled": true
   },
   "outputs": [
    {
     "name": "stdout",
     "output_type": "stream",
     "text": [
      "+------+------------------+----------+----+-----+---------------+\n",
      "|IsDrug|DispositionMeaning|DayOfMonth|Hour|Month|    AddressType|\n",
      "+------+------------------+----------+----+-----+---------------+\n",
      "|     0|           Handled|         1|  17|    3|   Intersection|\n",
      "|     0|             Cited|        14|  23|    2|   Intersection|\n",
      "|     0|             Cited|        14|  23|    2|   Intersection|\n",
      "|     0|           Handled|         1|  13|    4|Common Location|\n",
      "|     0|   Gone on Arrival|         9|  20|    2|Common Location|\n",
      "|     0|           Handled|         1|  15|    4|Premise Address|\n",
      "|     0|            Report|        31|  17|    1|Premise Address|\n",
      "|     0|            Report|        19|  11|    2|Premise Address|\n",
      "|     0|           Handled|        21|   7|    3|Premise Address|\n",
      "|     0|           Handled|        23|   7|    3|Premise Address|\n",
      "|     0|   Gone on Arrival|        11|  15|    2|Common Location|\n",
      "|     0|          No Merit|        11|  15|    2|   Intersection|\n",
      "|     0|           Handled|        11|  16|    2|Premise Address|\n",
      "|     0|   Gone on Arrival|         1|  15|    4|Premise Address|\n",
      "|     0|           Advised|         1|  16|    4|   Intersection|\n",
      "|     0|           Advised|         1|  16|    4|Premise Address|\n",
      "|     0|   Gone on Arrival|         1|  16|    4|   Intersection|\n",
      "|     0|            Cancel|         1|  16|    4|Premise Address|\n",
      "|     0|      Non-Criminal|        13|  13|    2|Premise Address|\n",
      "|     0|           Advised|         4|   8|    1|Premise Address|\n",
      "+------+------------------+----------+----+-----+---------------+\n",
      "only showing top 20 rows\n",
      "\n"
     ]
    }
   ],
   "source": [
    "final.show()"
   ]
  },
  {
   "cell_type": "code",
   "execution_count": 22,
   "metadata": {},
   "outputs": [],
   "source": [
    "final.createOrReplaceTempView(\"Final\")"
   ]
  },
  {
   "cell_type": "code",
   "execution_count": 24,
   "metadata": {},
   "outputs": [
    {
     "name": "stdout",
     "output_type": "stream",
     "text": [
      "+------+--------+\n",
      "|IsDrug|count(1)|\n",
      "+------+--------+\n",
      "|    No|  424894|\n",
      "|   Yes|    3257|\n",
      "+------+--------+\n",
      "\n"
     ]
    }
   ],
   "source": [
    "query = spark.sql(\"SELECT IsDrug, COUNT(*) FROM Final GROUP BY IsDrug\").show()"
   ]
  },
  {
   "cell_type": "code",
   "execution_count": 41,
   "metadata": {},
   "outputs": [
    {
     "ename": "SyntaxError",
     "evalue": "invalid syntax (<ipython-input-41-19570e80958e>, line 1)",
     "output_type": "error",
     "traceback": [
      "\u001b[0;36m  File \u001b[0;32m\"<ipython-input-41-19570e80958e>\"\u001b[0;36m, line \u001b[0;32m1\u001b[0m\n\u001b[0;31m    var Drug = final.filter(\"IsDrug='Yes'\")\u001b[0m\n\u001b[0m           ^\u001b[0m\n\u001b[0;31mSyntaxError\u001b[0m\u001b[0;31m:\u001b[0m invalid syntax\n"
     ]
    }
   ],
   "source": [
    "var Drug = final.filter(\"IsDrug='Yes'\")"
   ]
  },
  {
   "cell_type": "code",
   "execution_count": 33,
   "metadata": {},
   "outputs": [],
   "source": [
    "NoDrug = final.filter(\"IsDrug='No'\")"
   ]
  },
  {
   "cell_type": "code",
   "execution_count": 34,
   "metadata": {},
   "outputs": [
    {
     "ename": "AttributeError",
     "evalue": "'int' object has no attribute 'toDouble'",
     "output_type": "error",
     "traceback": [
      "\u001b[0;31m---------------------------------------------------------------------------\u001b[0m",
      "\u001b[0;31mAttributeError\u001b[0m                            Traceback (most recent call last)",
      "\u001b[0;32m<ipython-input-34-c4f089dc5bf4>\u001b[0m in \u001b[0;36m<module>\u001b[0;34m()\u001b[0m\n\u001b[0;32m----> 1\u001b[0;31m \u001b[0msampleRatio\u001b[0m \u001b[0;34m=\u001b[0m \u001b[0myesDrug\u001b[0m\u001b[0;34m.\u001b[0m\u001b[0mcount\u001b[0m\u001b[0;34m(\u001b[0m\u001b[0;34m)\u001b[0m\u001b[0;34m.\u001b[0m\u001b[0mtoDouble\u001b[0m \u001b[0;34m/\u001b[0m \u001b[0mfinal\u001b[0m\u001b[0;34m.\u001b[0m\u001b[0mcount\u001b[0m\u001b[0;34m(\u001b[0m\u001b[0;34m)\u001b[0m\u001b[0;34m.\u001b[0m\u001b[0mtoDouble\u001b[0m\u001b[0;34m\u001b[0m\u001b[0m\n\u001b[0m\u001b[1;32m      2\u001b[0m \u001b[0mNoDrugSampleFinal\u001b[0m \u001b[0;34m=\u001b[0m \u001b[0mNoDrug\u001b[0m\u001b[0;34m.\u001b[0m\u001b[0msample\u001b[0m\u001b[0;34m(\u001b[0m\u001b[0mfalse\u001b[0m\u001b[0;34m,\u001b[0m \u001b[0msampleRatio\u001b[0m\u001b[0;34m)\u001b[0m\u001b[0;34m\u001b[0m\u001b[0m\n",
      "\u001b[0;31mAttributeError\u001b[0m: 'int' object has no attribute 'toDouble'"
     ]
    }
   ],
   "source": [
    "sampleRatio = yesDrug.count().toDouble / final.count().toDouble\n",
    "NoDrugSampleFinal = NoDrug.sample(false, sampleRatio)"
   ]
  },
  {
   "cell_type": "markdown",
   "metadata": {},
   "source": [
    "# Create and Justify test Designs"
   ]
  },
  {
   "cell_type": "code",
   "execution_count": 18,
   "metadata": {},
   "outputs": [
    {
     "name": "stdout",
     "output_type": "stream",
     "text": [
      "Training Dataset Count: 299749\n",
      "Test Dataset Count: 128402\n"
     ]
    }
   ],
   "source": [
    "(trainingData, testData) = final.randomSplit([0.7, 0.3], seed = 100)\n",
    "print(\"Training Dataset Count: \" + str(trainingData.count()))\n",
    "print(\"Test Dataset Count: \" + str(testData.count()))"
   ]
  },
  {
   "cell_type": "markdown",
   "metadata": {},
   "source": [
    "# Build Models"
   ]
  },
  {
   "cell_type": "code",
   "execution_count": 59,
   "metadata": {
    "scrolled": true
   },
   "outputs": [
    {
     "data": {
      "text/html": [
       "<div>\n",
       "<style scoped>\n",
       "    .dataframe tbody tr th:only-of-type {\n",
       "        vertical-align: middle;\n",
       "    }\n",
       "\n",
       "    .dataframe tbody tr th {\n",
       "        vertical-align: top;\n",
       "    }\n",
       "\n",
       "    .dataframe thead th {\n",
       "        text-align: right;\n",
       "    }\n",
       "</style>\n",
       "<table border=\"1\" class=\"dataframe\">\n",
       "  <thead>\n",
       "    <tr style=\"text-align: right;\">\n",
       "      <th></th>\n",
       "      <th>IsDrug</th>\n",
       "      <th>DispositionMeaning</th>\n",
       "      <th>DayOfMonth</th>\n",
       "      <th>Hour</th>\n",
       "      <th>Month</th>\n",
       "      <th>AddressType</th>\n",
       "    </tr>\n",
       "  </thead>\n",
       "  <tbody>\n",
       "    <tr>\n",
       "      <th>0</th>\n",
       "      <td>No</td>\n",
       "      <td>Handled</td>\n",
       "      <td>1</td>\n",
       "      <td>17</td>\n",
       "      <td>3</td>\n",
       "      <td>Intersection</td>\n",
       "    </tr>\n",
       "    <tr>\n",
       "      <th>1</th>\n",
       "      <td>No</td>\n",
       "      <td>Cited</td>\n",
       "      <td>14</td>\n",
       "      <td>23</td>\n",
       "      <td>2</td>\n",
       "      <td>Intersection</td>\n",
       "    </tr>\n",
       "    <tr>\n",
       "      <th>2</th>\n",
       "      <td>No</td>\n",
       "      <td>Cited</td>\n",
       "      <td>14</td>\n",
       "      <td>23</td>\n",
       "      <td>2</td>\n",
       "      <td>Intersection</td>\n",
       "    </tr>\n",
       "    <tr>\n",
       "      <th>3</th>\n",
       "      <td>No</td>\n",
       "      <td>Handled</td>\n",
       "      <td>1</td>\n",
       "      <td>13</td>\n",
       "      <td>4</td>\n",
       "      <td>Common Location</td>\n",
       "    </tr>\n",
       "    <tr>\n",
       "      <th>4</th>\n",
       "      <td>No</td>\n",
       "      <td>Gone on Arrival</td>\n",
       "      <td>9</td>\n",
       "      <td>20</td>\n",
       "      <td>2</td>\n",
       "      <td>Common Location</td>\n",
       "    </tr>\n",
       "  </tbody>\n",
       "</table>\n",
       "</div>"
      ],
      "text/plain": [
       "  IsDrug DispositionMeaning  DayOfMonth  Hour  Month      AddressType\n",
       "0     No            Handled           1    17      3     Intersection\n",
       "1     No              Cited          14    23      2     Intersection\n",
       "2     No              Cited          14    23      2     Intersection\n",
       "3     No            Handled           1    13      4  Common Location\n",
       "4     No    Gone on Arrival           9    20      2  Common Location"
      ]
     },
     "execution_count": 59,
     "metadata": {},
     "output_type": "execute_result"
    }
   ],
   "source": [
    "# Import pandas.\n",
    "import pandas as pd\n",
    "\n",
    "# Take the first five rows of data, and visualise.\n",
    "pd.DataFrame(final.take(5), columns=final.columns)"
   ]
  },
  {
   "cell_type": "code",
   "execution_count": 60,
   "metadata": {
    "scrolled": true
   },
   "outputs": [
    {
     "data": {
      "text/html": [
       "<div>\n",
       "<style scoped>\n",
       "    .dataframe tbody tr th:only-of-type {\n",
       "        vertical-align: middle;\n",
       "    }\n",
       "\n",
       "    .dataframe tbody tr th {\n",
       "        vertical-align: top;\n",
       "    }\n",
       "\n",
       "    .dataframe thead th {\n",
       "        text-align: right;\n",
       "    }\n",
       "</style>\n",
       "<table border=\"1\" class=\"dataframe\">\n",
       "  <thead>\n",
       "    <tr style=\"text-align: right;\">\n",
       "      <th></th>\n",
       "      <th>0</th>\n",
       "      <th>1</th>\n",
       "      <th>2</th>\n",
       "      <th>3</th>\n",
       "      <th>4</th>\n",
       "    </tr>\n",
       "  </thead>\n",
       "  <tbody>\n",
       "    <tr>\n",
       "      <th>summary</th>\n",
       "      <td>count</td>\n",
       "      <td>mean</td>\n",
       "      <td>stddev</td>\n",
       "      <td>min</td>\n",
       "      <td>max</td>\n",
       "    </tr>\n",
       "    <tr>\n",
       "      <th>DayOfMonth</th>\n",
       "      <td>428151</td>\n",
       "      <td>15.36688691606466</td>\n",
       "      <td>8.74833352643876</td>\n",
       "      <td>1</td>\n",
       "      <td>31</td>\n",
       "    </tr>\n",
       "    <tr>\n",
       "      <th>Hour</th>\n",
       "      <td>428151</td>\n",
       "      <td>13.176208860892535</td>\n",
       "      <td>6.157194986048841</td>\n",
       "      <td>0</td>\n",
       "      <td>23</td>\n",
       "    </tr>\n",
       "    <tr>\n",
       "      <th>Month</th>\n",
       "      <td>428151</td>\n",
       "      <td>5.311854929686022</td>\n",
       "      <td>2.809853126979472</td>\n",
       "      <td>1</td>\n",
       "      <td>11</td>\n",
       "    </tr>\n",
       "  </tbody>\n",
       "</table>\n",
       "</div>"
      ],
      "text/plain": [
       "                 0                   1                  2    3    4\n",
       "summary      count                mean             stddev  min  max\n",
       "DayOfMonth  428151   15.36688691606466   8.74833352643876    1   31\n",
       "Hour        428151  13.176208860892535  6.157194986048841    0   23\n",
       "Month       428151   5.311854929686022  2.809853126979472    1   11"
      ]
     },
     "execution_count": 60,
     "metadata": {},
     "output_type": "execute_result"
    }
   ],
   "source": [
    "# Using a for loop to find all columns that belong to the integer data type. \n",
    "numeric_features = [t[0] for t in final.dtypes if t[1] == 'int']\n",
    "\n",
    "# Selecting the numeric features, generating summary statistics, and converting to a Pandas DataFrame.\n",
    "final.select(numeric_features).describe().toPandas().transpose()"
   ]
  },
  {
   "cell_type": "code",
   "execution_count": 61,
   "metadata": {
    "scrolled": true
   },
   "outputs": [],
   "source": [
    "final = final.select('IsDrug', 'DispositionMeaning', 'DayOfMonth', 'Hour', 'Month', 'AddressType')"
   ]
  },
  {
   "cell_type": "code",
   "execution_count": 5,
   "metadata": {
    "scrolled": true
   },
   "outputs": [
    {
     "name": "stdout",
     "output_type": "stream",
     "text": [
      "+------+------------------+----------+----+-----+---------------+\n",
      "|IsDrug|DispositionMeaning|DayOfMonth|Hour|Month|    AddressType|\n",
      "+------+------------------+----------+----+-----+---------------+\n",
      "|    No|           Handled|         1|  17|    3|   Intersection|\n",
      "|    No|             Cited|        14|  23|    2|   Intersection|\n",
      "|    No|             Cited|        14|  23|    2|   Intersection|\n",
      "|    No|           Handled|         1|  13|    4|Common Location|\n",
      "|    No|   Gone on Arrival|         9|  20|    2|Common Location|\n",
      "|    No|           Handled|         1|  15|    4|Premise Address|\n",
      "|    No|            Report|        31|  17|    1|Premise Address|\n",
      "|    No|            Report|        19|  11|    2|Premise Address|\n",
      "|    No|           Handled|        21|   7|    3|Premise Address|\n",
      "|    No|           Handled|        23|   7|    3|Premise Address|\n",
      "|    No|   Gone on Arrival|        11|  15|    2|Common Location|\n",
      "|    No|          No Merit|        11|  15|    2|   Intersection|\n",
      "|    No|           Handled|        11|  16|    2|Premise Address|\n",
      "|    No|   Gone on Arrival|         1|  15|    4|Premise Address|\n",
      "|    No|           Advised|         1|  16|    4|   Intersection|\n",
      "|    No|           Advised|         1|  16|    4|Premise Address|\n",
      "|    No|   Gone on Arrival|         1|  16|    4|   Intersection|\n",
      "|    No|            Cancel|         1|  16|    4|Premise Address|\n",
      "|    No|      Non-Criminal|        13|  13|    2|Premise Address|\n",
      "|    No|           Advised|         4|   8|    1|Premise Address|\n",
      "+------+------------------+----------+----+-----+---------------+\n",
      "only showing top 20 rows\n",
      "\n"
     ]
    }
   ],
   "source": [
    "final.show()"
   ]
  },
  {
   "cell_type": "code",
   "execution_count": 3,
   "metadata": {},
   "outputs": [],
   "source": [
    "# Import the relevant packages.\n",
    "from pyspark.ml.feature import (VectorAssembler,VectorIndexer,OneHotEncoder,StringIndexer)\n",
    "\n",
    "# First create a string indexer which converts every string into a number, such as male = 0 and female = 1.\n",
    "# A number will be assigned to every category in the column.\n",
    "addresstype_indexer = StringIndexer(inputCol='AddressType',outputCol='addresstypeIndex')\n",
    "disposition_indexer = StringIndexer(inputCol='DispositionMeaning',outputCol='dispositionIndex')\n",
    "isdrug_indexer = StringIndexer(inputCol='IsDrug',outputCol='label')\n",
    "\n",
    "# Now we can one hot encode these numbers. This converts the various outputs into a single vector.\n",
    "# Multiple columns are collapsed into one. \n",
    "# This makes it easier to process when you have multiple classes.\n",
    "addresstype_encoder = OneHotEncoder(inputCol='addresstypeIndex',outputCol='addresstypeVec')\n",
    "disposition_encoder = OneHotEncoder(inputCol='dispositionIndex',outputCol='dispositionVec')\n",
    "\n",
    "\n",
    "# And finally, using vector assembler to turn all of these columns into one column (named features).\n",
    "assembler = VectorAssembler(inputCols=['addresstypeVec','dispositionVec','DayOfMonth', 'Hour', 'Month'], outputCol=\"features\")"
   ]
  },
  {
   "cell_type": "code",
   "execution_count": 4,
   "metadata": {},
   "outputs": [],
   "source": [
    "from pyspark.ml import Pipeline\n",
    "\n",
    "# Then go through our steps. It's essentially sequential to the above.\n",
    "pipeline = Pipeline(stages=[addresstype_indexer, disposition_indexer, isdrug_indexer, addresstype_encoder,disposition_encoder, assembler])\n",
    "\n",
    "# Now that we've got a number of steps, let's apply it to the DataFrame.\n",
    "pipeline_model = pipeline.fit(final)\n",
    "\n",
    "# Incorporate results into a new DataFrame.\n",
    "pipe_df = pipeline_model.transform(final)\n",
    "\n",
    "# Remove all variables other than features. \n",
    "pipe_df = pipe_df.select('label','features')\n"
   ]
  },
  {
   "cell_type": "markdown",
   "metadata": {},
   "source": [
    "# Conduct Data Mining"
   ]
  },
  {
   "cell_type": "markdown",
   "metadata": {},
   "source": [
    "## Logistics Regression"
   ]
  },
  {
   "cell_type": "code",
   "execution_count": 62,
   "metadata": {},
   "outputs": [
    {
     "name": "stdout",
     "output_type": "stream",
     "text": [
      "Training Dataset Count: 299527\n",
      "Test Dataset Count: 128624\n"
     ]
    }
   ],
   "source": [
    "from pyspark.ml.classification import LogisticRegression\n",
    "\n",
    "# Split our data. Note that the new DataFrame is being used.\n",
    "train_data, test_data = pipe_df.randomSplit([0.7,0.3])\n",
    "print(\"Training Dataset Count: \" + str(train_data.count()))\n",
    "print(\"Test Dataset Count: \" + str(test_data.count()))\n",
    "\n",
    "# Instantiate the model.\n",
    "lr_model = LogisticRegression(featuresCol='features',labelCol='label', maxIter=10)\n",
    "\n",
    "# Fit the model.\n",
    "lr_model = lr_model.fit(train_data)\n",
    "\n",
    "# And evaluate the model using the test data.\n",
    "results = lr_model.transform(test_data)"
   ]
  },
  {
   "cell_type": "code",
   "execution_count": 63,
   "metadata": {
    "scrolled": true
   },
   "outputs": [
    {
     "data": {
      "image/png": "[encoded data removed]",
      "text/plain": [
       "<Figure size 432x288 with 1 Axes>"
      ]
     },
     "metadata": {},
     "output_type": "display_data"
    }
   ],
   "source": [
    "import matplotlib.pyplot as plt\n",
    "import numpy as np\n",
    "\n",
    "# Visualising the coefficients. Sort from lowest to highest.\n",
    "beta = np.sort(lr_model.coefficients)\n",
    "\n",
    "# Plot the data.\n",
    "plt.plot(beta)\n",
    "\n",
    "# Add a label to the data.\n",
    "plt.ylabel('Beta Coefficients')\n",
    "\n",
    "# Show the graph. \n",
    "plt.show()"
   ]
  },
  {
   "cell_type": "code",
   "execution_count": 64,
   "metadata": {},
   "outputs": [
    {
     "data": {
      "image/png": "[encoded data removed]",
      "text/plain": [
       "<Figure size 432x288 with 1 Axes>"
      ]
     },
     "metadata": {},
     "output_type": "display_data"
    },
    {
     "name": "stdout",
     "output_type": "stream",
     "text": [
      "Area Under the Curve: 0.8040532412917517\n"
     ]
    }
   ],
   "source": [
    "# Let's get a summary of the data.\n",
    "training_summary = lr_model.summary\n",
    "\n",
    "# Convert the DataFrame to a Pandas DataFrame.\n",
    "ROC = training_summary.roc.toPandas()\n",
    "\n",
    "# Plot the true positive and false positive rates.\n",
    "plt.plot(ROC['FPR'],ROC['TPR'])\n",
    "\n",
    "# Define the labels.\n",
    "plt.ylabel('True Positive Rate')\n",
    "plt.xlabel('False Positive Rate')\n",
    "plt.title('ROC Curve')\n",
    "plt.show()\n",
    "\n",
    "# Print the AUC statistic. \n",
    "print('Area Under the Curve: ' + str(training_summary.areaUnderROC))"
   ]
  },
  {
   "cell_type": "code",
   "execution_count": 68,
   "metadata": {},
   "outputs": [
    {
     "data": {
      "image/png": "[encoded data removed]",
      "text/plain": [
       "<Figure size 432x288 with 1 Axes>"
      ]
     },
     "metadata": {},
     "output_type": "display_data"
    }
   ],
   "source": [
    "# Convert DataFrame to Pandas DataFrame.\n",
    "pr = training_summary.pr.toPandas()\n",
    "\n",
    "# Plot model recall and precision.\n",
    "plt.plot(pr['recall'],pr['precision'])\n",
    "\n",
    "# Define the labels and show the graph. \n",
    "plt.ylabel('Precision')\n",
    "plt.xlabel('Recall')\n",
    "plt.show()"
   ]
  },
  {
   "cell_type": "code",
   "execution_count": 69,
   "metadata": {},
   "outputs": [
    {
     "name": "stdout",
     "output_type": "stream",
     "text": [
      "+-----+--------------------+----------+--------------------+\n",
      "|label|       rawPrediction|prediction|         probability|\n",
      "+-----+--------------------+----------+--------------------+\n",
      "|  0.0|[5.76364527116644...|       0.0|[0.99687018067150...|\n",
      "|  0.0|[5.76364527116644...|       0.0|[0.99687018067150...|\n",
      "|  0.0|[5.76364527116644...|       0.0|[0.99687018067150...|\n",
      "|  0.0|[5.76364527116644...|       0.0|[0.99687018067150...|\n",
      "|  0.0|[5.69179499835447...|       0.0|[0.99663781040747...|\n",
      "|  0.0|[5.69179499835447...|       0.0|[0.99663781040747...|\n",
      "|  0.0|[5.65586986194848...|       0.0|[0.99651525598842...|\n",
      "|  0.0|[5.65586986194848...|       0.0|[0.99651525598842...|\n",
      "|  0.0|[5.65586986194848...|       0.0|[0.99651525598842...|\n",
      "|  0.0|[5.61994472554249...|       0.0|[0.99638825055457...|\n",
      "+-----+--------------------+----------+--------------------+\n",
      "only showing top 10 rows\n",
      "\n"
     ]
    }
   ],
   "source": [
    "predictions = lr_model.transform(test_data)\n",
    "predictions.select('label', 'rawPrediction', 'prediction', 'probability').show(10)"
   ]
  },
  {
   "cell_type": "code",
   "execution_count": 70,
   "metadata": {},
   "outputs": [
    {
     "name": "stdout",
     "output_type": "stream",
     "text": [
      "Test Area Under ROC 0.804530467678024\n"
     ]
    }
   ],
   "source": [
    "from pyspark.ml.evaluation import BinaryClassificationEvaluator\n",
    "evaluator = BinaryClassificationEvaluator()\n",
    "print('Test Area Under ROC', evaluator.evaluate(predictions))"
   ]
  },
  {
   "cell_type": "markdown",
   "metadata": {},
   "source": [
    "## Random Forest"
   ]
  },
  {
   "cell_type": "code",
   "execution_count": 20,
   "metadata": {
    "scrolled": false
   },
   "outputs": [],
   "source": [
    "from pyspark.ml.classification import RandomForestClassifier\n",
    "\n",
    "rfmodel = RandomForestClassifier(labelCol=\"label\",featuresCol=\"features\", numTrees = 150, maxDepth = 6, maxBins = 36)\n",
    "\n",
    "# Train model with Training Data\n",
    "rfmodel = rfmodel.fit(train_data)\n",
    "rfResults = rfmodel.transform(test_data)"
   ]
  },
  {
   "cell_type": "code",
   "execution_count": 21,
   "metadata": {},
   "outputs": [
    {
     "name": "stdout",
     "output_type": "stream",
     "text": [
      "+-----+--------------------+----------+--------------------+\n",
      "|label|       rawPrediction|prediction|         probability|\n",
      "+-----+--------------------+----------+--------------------+\n",
      "|  0.0|[149.348245940184...|       0.0|[0.99565497293456...|\n",
      "|  0.0|[149.348245940184...|       0.0|[0.99565497293456...|\n",
      "|  0.0|[149.348245940184...|       0.0|[0.99565497293456...|\n",
      "|  0.0|[149.299852913041...|       0.0|[0.99533235275361...|\n",
      "|  0.0|[149.301751398955...|       0.0|[0.99534500932637...|\n",
      "|  0.0|[149.301751398955...|       0.0|[0.99534500932637...|\n",
      "|  0.0|[149.309813215332...|       0.0|[0.99539875476888...|\n",
      "|  0.0|[149.309813215332...|       0.0|[0.99539875476888...|\n",
      "|  0.0|[149.295103806197...|       0.0|[0.99530069204131...|\n",
      "|  0.0|[149.280280159415...|       0.0|[0.99520186772943...|\n",
      "+-----+--------------------+----------+--------------------+\n",
      "only showing top 10 rows\n",
      "\n"
     ]
    }
   ],
   "source": [
    "RFpredictions = rfmodel.transform(test_data)\n",
    "RFpredictions.select('label', 'rawPrediction', 'prediction', 'probability').show(10)"
   ]
  },
  {
   "cell_type": "code",
   "execution_count": 22,
   "metadata": {},
   "outputs": [
    {
     "name": "stdout",
     "output_type": "stream",
     "text": [
      "Test Area Under ROC: 0.8114359656896519\n"
     ]
    }
   ],
   "source": [
    "evaluator = BinaryClassificationEvaluator()\n",
    "print(\"Test Area Under ROC: \" + str(evaluator.evaluate(RFpredictions, {evaluator.metricName: \"areaUnderROC\"})))"
   ]
  },
  {
   "cell_type": "markdown",
   "metadata": {},
   "source": [
    "## Gradient-Boosted Tree Classifier"
   ]
  },
  {
   "cell_type": "code",
   "execution_count": 23,
   "metadata": {},
   "outputs": [
    {
     "name": "stdout",
     "output_type": "stream",
     "text": [
      "+-----+-------------+----------+--------------------+\n",
      "|label|rawPrediction|prediction|         probability|\n",
      "+-----+-------------+----------+--------------------+\n",
      "|  0.0|[7865.0,27.0]|       0.0|[0.99657881398884...|\n",
      "|  0.0|[7865.0,27.0]|       0.0|[0.99657881398884...|\n",
      "|  0.0|[7865.0,27.0]|       0.0|[0.99657881398884...|\n",
      "|  0.0|[7865.0,27.0]|       0.0|[0.99657881398884...|\n",
      "|  0.0|[7865.0,27.0]|       0.0|[0.99657881398884...|\n",
      "|  0.0|[7865.0,27.0]|       0.0|[0.99657881398884...|\n",
      "|  0.0|[7865.0,27.0]|       0.0|[0.99657881398884...|\n",
      "|  0.0|[7865.0,27.0]|       0.0|[0.99657881398884...|\n",
      "|  0.0|[7865.0,27.0]|       0.0|[0.99657881398884...|\n",
      "|  0.0|[7865.0,27.0]|       0.0|[0.99657881398884...|\n",
      "+-----+-------------+----------+--------------------+\n",
      "only showing top 10 rows\n",
      "\n"
     ]
    }
   ],
   "source": [
    "from pyspark.ml.classification import DecisionTreeClassifier\n",
    "dt = DecisionTreeClassifier(featuresCol = 'features', labelCol = 'label', maxDepth = 6)\n",
    "dtModel = dt.fit(train_data)\n",
    "predictions = dtModel.transform(test_data)\n",
    "predictions.select('label', 'rawPrediction', 'prediction', 'probability').show(10)"
   ]
  },
  {
   "cell_type": "code",
   "execution_count": 24,
   "metadata": {},
   "outputs": [
    {
     "name": "stdout",
     "output_type": "stream",
     "text": [
      "Test Area Under ROC: 0.6284239778939835\n"
     ]
    }
   ],
   "source": [
    "evaluator = BinaryClassificationEvaluator()\n",
    "print(\"Test Area Under ROC: \" + str(evaluator.evaluate(predictions, {evaluator.metricName: \"areaUnderROC\"})))"
   ]
  },
  {
   "cell_type": "code",
   "execution_count": null,
   "metadata": {},
   "outputs": [],
   "source": []
  }
 ],
 "metadata": {
  "kernelspec": {
   "display_name": "Python 3",
   "language": "python",
   "name": "python3"
  },
  "language_info": {
   "codemirror_mode": {
    "name": "ipython",
    "version": 3
   },
   "file_extension": ".py",
   "mimetype": "text/x-python",
   "name": "python",
   "nbconvert_exporter": "python",
   "pygments_lexer": "ipython3",
   "version": "3.5.2"
  }
 },
 "nbformat": 4,
 "nbformat_minor": 2
}
